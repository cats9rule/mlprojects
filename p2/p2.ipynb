{
 "cells": [
  {
   "attachments": {},
   "cell_type": "markdown",
   "metadata": {},
   "source": [
    "# Projekat 1 - nenadgledano učenje\n",
    "\n",
    "**Dataset**: https://www.kaggle.com/datasets/arslanali4343/top-personality-dataset\n",
    "\n",
    "**Definicija problema**: Klasterizacija osoba po tipovima ličnosti.\n",
    "\n",
    "**Vrsta problema**: klasterizacija"
   ]
  }
 ],
 "metadata": {
  "language_info": {
   "name": "python"
  },
  "orig_nbformat": 4
 },
 "nbformat": 4,
 "nbformat_minor": 2
}
